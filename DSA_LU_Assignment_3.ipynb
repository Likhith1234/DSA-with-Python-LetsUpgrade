{
  "nbformat": 4,
  "nbformat_minor": 0,
  "metadata": {
    "colab": {
      "name": "DSA_LU_Assignment-3.ipynb",
      "provenance": [],
      "authorship_tag": "ABX9TyM59+QN0/RvPoGSdH6dorHi",
      "include_colab_link": true
    },
    "kernelspec": {
      "name": "python3",
      "display_name": "Python 3"
    }
  },
  "cells": [
    {
      "cell_type": "markdown",
      "metadata": {
        "id": "view-in-github",
        "colab_type": "text"
      },
      "source": [
        "<a href=\"https://colab.research.google.com/github/Likhith1234/DSA-with-Python-LetsUpgrade/blob/main/DSA_LU_Assignment_3.ipynb\" target=\"_parent\"><img src=\"https://colab.research.google.com/assets/colab-badge.svg\" alt=\"Open In Colab\"/></a>"
      ]
    },
    {
      "cell_type": "markdown",
      "metadata": {
        "id": "hiRtgrvlfCz6"
      },
      "source": [
        "# ***Question-1***"
      ]
    },
    {
      "cell_type": "code",
      "metadata": {
        "colab": {
          "base_uri": "https://localhost:8080/"
        },
        "id": "fn44wW6ZfGgz",
        "outputId": "2bf71e0a-79a6-4194-f828-825ed0fb6748"
      },
      "source": [
        "class MovieNode:\r\n",
        "  def __init__(self,movieName,relDate,genre):\r\n",
        "    self.movieName = movieName\r\n",
        "    self.relDate = relDate\r\n",
        "    self.genre = genre\r\n",
        "    self.next = None\r\n",
        "    return\r\n",
        "\r\n",
        "class MoviesList:\r\n",
        "  def __init__(self):\r\n",
        "    self.head = None\r\n",
        "    return\r\n",
        "  \r\n",
        "  def addMovie(self,movieName,relDate,genre):\r\n",
        "    new_movie = MovieNode(movieName,relDate,genre)\r\n",
        "    if self.head == None:\r\n",
        "      self.head = new_movie\r\n",
        "      return\r\n",
        "    new_movie.next = self.head\r\n",
        "    self.head = new_movie\r\n",
        "    return\r\n",
        "\r\n",
        "  def delMovie(self):\r\n",
        "    if self.head == None:\r\n",
        "      print(\"There are no movies in the list\")\r\n",
        "      return\r\n",
        "    temp = self.head\r\n",
        "    while temp != None:\r\n",
        "      if temp.next.next == None:\r\n",
        "        temp.next = None\r\n",
        "        return\r\n",
        "      temp = temp.next\r\n",
        "    return\r\n",
        "\r\n",
        "  def display(self):\r\n",
        "    if self.head == None:\r\n",
        "      print(\"No movies to show\")\r\n",
        "      return\r\n",
        "    temp = self.head\r\n",
        "    while temp != None:\r\n",
        "      print(temp.movieName, temp.relDate, temp.genre)\r\n",
        "      temp = temp.next\r\n",
        "    return\r\n",
        "\r\n",
        "movies_list = MoviesList()\r\n",
        "while True:\r\n",
        "  movie_name = input(\"Enter movie name: \")\r\n",
        "  if movie_name == \"\": break\r\n",
        "  rel_date = input(\"Enter release date: \")\r\n",
        "  genre = input(\"Enter genre: \")\r\n",
        "  movies_list.addMovie(movie_name,rel_date,genre)\r\n",
        "  print()\r\n",
        "\r\n",
        "movies_list.display()\r\n",
        "print()\r\n",
        "print(\"Deleting the oldest movie.\")\r\n",
        "movies_list.delMovie()\r\n",
        "print()\r\n",
        "movies_list.display()"
      ],
      "execution_count": 5,
      "outputs": [
        {
          "output_type": "stream",
          "text": [
            "Enter movie name: Cap America Civil War\n",
            "Enter release date: 12 june 2010\n",
            "Enter genre: Action\n",
            "\n",
            "Enter movie name: Spyder\n",
            "Enter release date: 27 September 2017\n",
            "Enter genre: Crime Thriller\n",
            "\n",
            "Enter movie name: Antman And the Wasp\n",
            "Enter release date: 06 June 2017\n",
            "Enter genre: Action/Fantasy\n",
            "\n",
            "Enter movie name: DDlj\n",
            "Enter release date: 12 September 1997\n",
            "Enter genre: Romance/Family Entertainer\n",
            "\n",
            "Enter movie name: \n",
            "DDlj 12 September 1997 Romance/Family Entertainer\n",
            "Antman And the Wasp 06 June 2017 Action/Fantasy\n",
            "Spyder 27 September 2017 Crime Thriller\n",
            "Cap America Civil War 12 june 2010 Action\n",
            "\n",
            "Deleting the oldest movie.\n",
            "\n",
            "DDlj 12 September 1997 Romance/Family Entertainer\n",
            "Antman And the Wasp 06 June 2017 Action/Fantasy\n",
            "Spyder 27 September 2017 Crime Thriller\n"
          ],
          "name": "stdout"
        }
      ]
    }
  ]
}