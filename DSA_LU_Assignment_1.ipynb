{
  "nbformat": 4,
  "nbformat_minor": 0,
  "metadata": {
    "colab": {
      "name": "DSA_LU_Assignment-1.ipynb",
      "provenance": [],
      "authorship_tag": "ABX9TyPU4XrqR8JGzD3BTUueZUBw",
      "include_colab_link": true
    },
    "kernelspec": {
      "name": "python3",
      "display_name": "Python 3"
    }
  },
  "cells": [
    {
      "cell_type": "markdown",
      "metadata": {
        "id": "view-in-github",
        "colab_type": "text"
      },
      "source": [
        "<a href=\"https://colab.research.google.com/github/Likhith1234/DSA-with-Python-LetsUpgrade/blob/main/DSA_LU_Assignment_1.ipynb\" target=\"_parent\"><img src=\"https://colab.research.google.com/assets/colab-badge.svg\" alt=\"Open In Colab\"/></a>"
      ]
    },
    {
      "cell_type": "markdown",
      "metadata": {
        "id": "_7DVUew8GGPf"
      },
      "source": [
        "### ***Question-1***"
      ]
    },
    {
      "cell_type": "code",
      "metadata": {
        "colab": {
          "base_uri": "https://localhost:8080/"
        },
        "id": "U9IJVZGOGBF4",
        "outputId": "52c03ab4-db94-49f5-de0f-329902834ba4"
      },
      "source": [
        "x = float(input(\"Enter 1st number: \"))\r\n",
        "y = float(input(\"Enter 2nd number: \"))\r\n",
        "print(x**y)"
      ],
      "execution_count": 2,
      "outputs": [
        {
          "output_type": "stream",
          "text": [
            "Enter 1st number: 5\n",
            "Enter 2nd number: 2\n",
            "25.0\n"
          ],
          "name": "stdout"
        }
      ]
    },
    {
      "cell_type": "markdown",
      "metadata": {
        "id": "7z4GPcKNGnO_"
      },
      "source": [
        "# ***Question-2***"
      ]
    },
    {
      "cell_type": "code",
      "metadata": {
        "colab": {
          "base_uri": "https://localhost:8080/"
        },
        "id": "onKEUGxqGZ6t",
        "outputId": "aadda7ba-cf74-4480-d65d-eb6fe3fd829d"
      },
      "source": [
        "lst = list(map(int,input(\"Enter elements of list: \").split()))\r\n",
        "new_list = [i for i in lst if i%3 == 0]\r\n",
        "print(new_list)"
      ],
      "execution_count": 4,
      "outputs": [
        {
          "output_type": "stream",
          "text": [
            "Enter elements of list: 2 3 4 15 11 12 65 54\n",
            "[3, 15, 12, 54]\n"
          ],
          "name": "stdout"
        }
      ]
    }
  ]
}