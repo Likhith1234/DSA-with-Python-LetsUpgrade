{
  "nbformat": 4,
  "nbformat_minor": 0,
  "metadata": {
    "colab": {
      "name": "DSA_LU_Assignment-4.ipynb",
      "provenance": [],
      "authorship_tag": "ABX9TyMJdnsyWmMzDVX/WGOruM+F",
      "include_colab_link": true
    },
    "kernelspec": {
      "name": "python3",
      "display_name": "Python 3"
    }
  },
  "cells": [
    {
      "cell_type": "markdown",
      "metadata": {
        "id": "view-in-github",
        "colab_type": "text"
      },
      "source": [
        "<a href=\"https://colab.research.google.com/github/Likhith1234/DSA-with-Python-LetsUpgrade/blob/main/DSA_LU_Assignment_4.ipynb\" target=\"_parent\"><img src=\"https://colab.research.google.com/assets/colab-badge.svg\" alt=\"Open In Colab\"/></a>"
      ]
    },
    {
      "cell_type": "markdown",
      "metadata": {
        "id": "4XMili9178A8"
      },
      "source": [
        "# ***Question-1***"
      ]
    },
    {
      "cell_type": "code",
      "metadata": {
        "colab": {
          "base_uri": "https://localhost:8080/"
        },
        "id": "bW--6ZV273ve",
        "outputId": "831e01e5-fe70-4d8b-f6d8-8b7173af5ee9"
      },
      "source": [
        "lst = input(\"Input List: \").split()\r\n",
        "search_value = input(\"Enter value to search: \")\r\n",
        "def linear_search(l, v):\r\n",
        "  for i in range(len(l)):\r\n",
        "    if l[i] == v: return \"Element found\",i\r\n",
        "res = linear_search(lst,search_value)\r\n",
        "if res == None: print(\"Element not found\")\r\n",
        "else: print(res[0],\"at index:\",res[1])"
      ],
      "execution_count": 9,
      "outputs": [
        {
          "output_type": "stream",
          "text": [
            "Input List: 1 hi 2 a b 45 c\n",
            "Enter value to search: a\n",
            "Element found at index: 3\n"
          ],
          "name": "stdout"
        }
      ]
    }
  ]
}